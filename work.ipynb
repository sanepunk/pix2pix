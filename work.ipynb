{
 "cells": [
  {
   "cell_type": "code",
   "id": "initial_id",
   "metadata": {
    "collapsed": true,
    "jupyter": {
     "is_executing": true
    },
    "ExecuteTime": {
     "start_time": "2025-02-19T17:24:15.196060Z"
    }
   },
   "source": [
    "from src import *\n",
    "import flax.nnx as nnx\n",
    "import jax\n",
    "import jax.numpy as jnp\n",
    "gan = Pix2Pix(3, (3, 3), (2, 2), (1, 1), 1, nnx.Rngs(0), training=True)\n",
    "for i in range(10):\n",
    "        critic_loss_val, generator_loss_val = train_step(gan.discriminator, gan.generator, gan.discriminator_optimizer, gan.generator_optimizer, jnp.ones((1, 256, 256, 3)), jnp.ones((1, 256, 256, 3)), 0.1, jax.random.PRNGKey(0))\n",
    "        print(critic_loss_val, generator_loss_val)"
   ],
   "outputs": [],
   "execution_count": null
  }
 ],
 "metadata": {
  "kernelspec": {
   "display_name": "Python 3",
   "language": "python",
   "name": "python3"
  },
  "language_info": {
   "codemirror_mode": {
    "name": "ipython",
    "version": 2
   },
   "file_extension": ".py",
   "mimetype": "text/x-python",
   "name": "python",
   "nbconvert_exporter": "python",
   "pygments_lexer": "ipython2",
   "version": "2.7.6"
  }
 },
 "nbformat": 4,
 "nbformat_minor": 5
}
